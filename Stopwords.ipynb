{
  "nbformat": 4,
  "nbformat_minor": 0,
  "metadata": {
    "colab": {
      "provenance": []
    },
    "kernelspec": {
      "name": "python3",
      "display_name": "Python 3"
    },
    "language_info": {
      "name": "python"
    }
  },
  "cells": [
    {
      "cell_type": "code",
      "execution_count": null,
      "metadata": {
        "colab": {
          "base_uri": "https://localhost:8080/",
          "height": 36
        },
        "id": "KvBL81ZUMb-M",
        "outputId": "e5f233cb-d0b9-4b91-a843-028ca7b15309"
      },
      "outputs": [
        {
          "output_type": "execute_result",
          "data": {
            "text/plain": [
              "'/content/spark-3.3.1-bin-hadoop3'"
            ],
            "application/vnd.google.colaboratory.intrinsic+json": {
              "type": "string"
            }
          },
          "metadata": {},
          "execution_count": 1
        }
      ],
      "source": [
        "# Download Java Virtual Machine (JVM)\n",
        "!apt-get install openjdk-8-jdk-headless -qq > /dev/null\n",
        "\n",
        "# Download Spark\n",
        "!wget -q https://dlcdn.apache.org/spark/spark-3.3.1/spark-3.3.1-bin-hadoop3.tgz\n",
        "# Unzip the file\n",
        "!tar xf spark-3.3.1-bin-hadoop3.tgz\n",
        "\n",
        "import os\n",
        "os.environ[\"JAVA_HOME\"] = \"/usr/lib/jvm/java-8-openjdk-amd64\"\n",
        "os.environ[\"SPARK_HOME\"] = '/content/spark-3.3.1-bin-hadoop3'\n",
        "\n",
        "# Install library for finding Spark\n",
        "!pip install -q findspark\n",
        "# Import the libary\n",
        "import findspark\n",
        "# Initiate findspark\n",
        "findspark.init()\n",
        "# Check the location for Spark\n",
        "findspark.find()"
      ]
    },
    {
      "cell_type": "code",
      "source": [
        " # Start Spark session\n",
        "from pyspark.sql import SparkSession\n",
        "spark = SparkSession.builder.appName(\"StopWords\").getOrCreate()"
      ],
      "metadata": {
        "id": "j4QcWDmfMzIn"
      },
      "execution_count": null,
      "outputs": []
    },
    {
      "cell_type": "code",
      "source": [
        "# Create DataFrame\n",
        "sentenceData = spark.createDataFrame([\n",
        "    (0, [\"Big\", \"data\", \"is\", \"super\", \"powerful\"]),\n",
        "    (1, [\"This\", \"is\", \"going\", \"to\", \"be\", \"epic\"])\n",
        "],[\"id\", \"raw\"])\n",
        "sentenceData.show(truncate=False)"
      ],
      "metadata": {
        "colab": {
          "base_uri": "https://localhost:8080/"
        },
        "id": "HAtU-2l4M3vA",
        "outputId": "f2317e61-61c6-469f-d2e0-381d5cebbeb8"
      },
      "execution_count": null,
      "outputs": [
        {
          "output_type": "stream",
          "name": "stdout",
          "text": [
            "+---+--------------------------------+\n",
            "|id |raw                             |\n",
            "+---+--------------------------------+\n",
            "|0  |[Big, data, is, super, powerful]|\n",
            "|1  |[This, is, going, to, be, epic] |\n",
            "+---+--------------------------------+\n",
            "\n"
          ]
        }
      ]
    },
    {
      "cell_type": "code",
      "source": [
        "# Import stop words library\n",
        "from pyspark.ml.feature import StopWordsRemover"
      ],
      "metadata": {
        "id": "rHQWq8lVNrKf"
      },
      "execution_count": null,
      "outputs": []
    },
    {
      "cell_type": "code",
      "source": [
        "# Run the Remover\n",
        "remover = StopWordsRemover(inputCol=\"raw\", outputCol=\"filtered\")"
      ],
      "metadata": {
        "id": "KWxv9unUNucB"
      },
      "execution_count": null,
      "outputs": []
    },
    {
      "cell_type": "code",
      "source": [
        "# Transform and show data\n",
        "remover.transform(sentenceData).show(truncate=False)"
      ],
      "metadata": {
        "colab": {
          "base_uri": "https://localhost:8080/"
        },
        "id": "RpLLm4LZNwFX",
        "outputId": "1f0473fc-6f6c-4542-b6aa-da80dc3e05c7"
      },
      "execution_count": null,
      "outputs": [
        {
          "output_type": "stream",
          "name": "stdout",
          "text": [
            "+---+--------------------------------+----------------------------+\n",
            "|id |raw                             |filtered                    |\n",
            "+---+--------------------------------+----------------------------+\n",
            "|0  |[Big, data, is, super, powerful]|[Big, data, super, powerful]|\n",
            "|1  |[This, is, going, to, be, epic] |[going, epic]               |\n",
            "+---+--------------------------------+----------------------------+\n",
            "\n"
          ]
        }
      ]
    },
    {
      "cell_type": "code",
      "source": [
        "# SKILL DRILL \n",
        "# Non Tokenized DataFrame\n",
        "\n",
        "# Create sample DataFrame\n",
        "dataframe = spark.createDataFrame([\n",
        "    (0, \"Spark is great\"),\n",
        "    (1, \"We are learning Spark\"),\n",
        "    (2, \"Spark is better than hadoop no doub\")\n",
        "], [\"id\", \"sentence\"])\n",
        "dataframe.show(truncate=False)"
      ],
      "metadata": {
        "colab": {
          "base_uri": "https://localhost:8080/"
        },
        "id": "kFb-d2xlN-gP",
        "outputId": "c6345c37-dbdd-4cb5-8c57-e601382d74fb"
      },
      "execution_count": null,
      "outputs": [
        {
          "output_type": "stream",
          "name": "stdout",
          "text": [
            "+---+-----------------------------------+\n",
            "|id |sentence                           |\n",
            "+---+-----------------------------------+\n",
            "|0  |Spark is great                     |\n",
            "|1  |We are learning Spark              |\n",
            "|2  |Spark is better than hadoop no doub|\n",
            "+---+-----------------------------------+\n",
            "\n"
          ]
        }
      ]
    },
    {
      "cell_type": "code",
      "source": [
        "# TOKENIZATION\n",
        "# ------------\n",
        "\n",
        "# Import stop words library\n",
        "from pyspark.ml.feature import Tokenizer\n",
        "\n",
        "# Tokenize sentences\n",
        "tokenizer = Tokenizer(inputCol=\"sentence\", outputCol=\"words\")\n",
        "\n",
        "# Transform and show DataFrame\n",
        "tokenized_df = tokenizer.transform(dataframe)\n",
        "tokenized_df.show(truncate=False)"
      ],
      "metadata": {
        "colab": {
          "base_uri": "https://localhost:8080/"
        },
        "id": "Rf_VsknRONCP",
        "outputId": "2df8a838-4c23-43ba-995d-3be12f511c18"
      },
      "execution_count": null,
      "outputs": [
        {
          "output_type": "stream",
          "name": "stdout",
          "text": [
            "+---+-----------------------------------+-------------------------------------------+\n",
            "|id |sentence                           |words                                      |\n",
            "+---+-----------------------------------+-------------------------------------------+\n",
            "|0  |Spark is great                     |[spark, is, great]                         |\n",
            "|1  |We are learning Spark              |[we, are, learning, spark]                 |\n",
            "|2  |Spark is better than hadoop no doub|[spark, is, better, than, hadoop, no, doub]|\n",
            "+---+-----------------------------------+-------------------------------------------+\n",
            "\n"
          ]
        }
      ]
    },
    {
      "cell_type": "code",
      "source": [
        "# REMOVING STOP WORDS\n",
        "# -------------------\n",
        "\n",
        "# Run the Remover\n",
        "remover = StopWordsRemover(inputCol=\"words\", outputCol=\"filtered\")\n",
        "\n",
        "# Transform and show data\n",
        "remover.transform(tokenized_df).show(truncate=False)\n"
      ],
      "metadata": {
        "colab": {
          "base_uri": "https://localhost:8080/"
        },
        "id": "liXDq555OmBX",
        "outputId": "dd09b82a-4d2a-4f6f-feba-7f13a85573e3"
      },
      "execution_count": null,
      "outputs": [
        {
          "output_type": "stream",
          "name": "stdout",
          "text": [
            "+---+-----------------------------------+-------------------------------------------+-----------------------------+\n",
            "|id |sentence                           |words                                      |filtered                     |\n",
            "+---+-----------------------------------+-------------------------------------------+-----------------------------+\n",
            "|0  |Spark is great                     |[spark, is, great]                         |[spark, great]               |\n",
            "|1  |We are learning Spark              |[we, are, learning, spark]                 |[learning, spark]            |\n",
            "|2  |Spark is better than hadoop no doub|[spark, is, better, than, hadoop, no, doub]|[spark, better, hadoop, doub]|\n",
            "+---+-----------------------------------+-------------------------------------------+-----------------------------+\n",
            "\n"
          ]
        }
      ]
    }
  ]
}