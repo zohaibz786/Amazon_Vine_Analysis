{
  "nbformat": 4,
  "nbformat_minor": 0,
  "metadata": {
    "colab": {
      "provenance": []
    },
    "kernelspec": {
      "name": "python3",
      "display_name": "Python 3"
    },
    "language_info": {
      "name": "python"
    }
  },
  "cells": [
    {
      "cell_type": "code",
      "execution_count": null,
      "metadata": {
        "colab": {
          "base_uri": "https://localhost:8080/",
          "height": 36
        },
        "id": "4EA0DeBXUs60",
        "outputId": "805e5746-0d65-452f-89c7-2b2261842897"
      },
      "outputs": [
        {
          "output_type": "execute_result",
          "data": {
            "text/plain": [
              "'/content/spark-3.3.1-bin-hadoop3'"
            ],
            "application/vnd.google.colaboratory.intrinsic+json": {
              "type": "string"
            }
          },
          "metadata": {},
          "execution_count": 1
        }
      ],
      "source": [
        "# Download Java Virtual Machine (JVM)\n",
        "!apt-get install openjdk-8-jdk-headless -qq > /dev/null\n",
        "\n",
        "# Download Spark\n",
        "!wget -q https://dlcdn.apache.org/spark/spark-3.3.1/spark-3.3.1-bin-hadoop3.tgz\n",
        "# Unzip the file\n",
        "!tar xf spark-3.3.1-bin-hadoop3.tgz\n",
        "\n",
        "import os\n",
        "os.environ[\"JAVA_HOME\"] = \"/usr/lib/jvm/java-8-openjdk-amd64\"\n",
        "os.environ[\"SPARK_HOME\"] = '/content/spark-3.3.1-bin-hadoop3'\n",
        "\n",
        "# Install library for finding Spark\n",
        "!pip install -q findspark\n",
        "# Import the libary\n",
        "import findspark\n",
        "# Initiate findspark\n",
        "findspark.init()\n",
        "# Check the location for Spark\n",
        "findspark.find()"
      ]
    },
    {
      "cell_type": "code",
      "source": [
        "# Start Spark session\n",
        "from pyspark.sql import SparkSession\n",
        "spark = SparkSession.builder.appName(\"Yelp_NLP\").getOrCreate()"
      ],
      "metadata": {
        "id": "6xMw9DE2U-FF"
      },
      "execution_count": null,
      "outputs": []
    },
    {
      "cell_type": "code",
      "source": [
        "# Read in data from S3 Buckets\n",
        "from pyspark import SparkFiles\n",
        "url =\"https://2u-data-curriculum-team.s3.amazonaws.com/dataviz-online/module_16/yelp_reviews.csv\"\n",
        "spark.sparkContext.addFile(url)\n",
        "df = spark.read.csv(SparkFiles.get(\"yelp_reviews.csv\"), sep=\",\", header=True)\n",
        "\n",
        "# Show DataFrame\n",
        "df.show()"
      ],
      "metadata": {
        "colab": {
          "base_uri": "https://localhost:8080/"
        },
        "id": "_44Hv2YuVDpt",
        "outputId": "576fdc11-eb83-4d64-cd9f-b8930b4d0a89"
      },
      "execution_count": null,
      "outputs": [
        {
          "output_type": "stream",
          "name": "stdout",
          "text": [
            "+--------+--------------------+\n",
            "|   class|                text|\n",
            "+--------+--------------------+\n",
            "|positive|Wow... Loved this...|\n",
            "|negative|  Crust is not good.|\n",
            "|negative|Not tasty and the...|\n",
            "|positive|Stopped by during...|\n",
            "|positive|The selection on ...|\n",
            "|negative|Now I am getting ...|\n",
            "|negative|Honeslty it didn'...|\n",
            "|negative|The potatoes were...|\n",
            "|positive|The fries were gr...|\n",
            "|positive|      A great touch.|\n",
            "|positive|Service was very ...|\n",
            "|negative|  Would not go back.|\n",
            "|negative|The cashier had n...|\n",
            "|positive|I tried the Cape ...|\n",
            "|negative|I was disgusted b...|\n",
            "|negative|I was shocked bec...|\n",
            "|positive| Highly recommended.|\n",
            "|negative|Waitress was a li...|\n",
            "|negative|This place is not...|\n",
            "|negative|did not like at all.|\n",
            "+--------+--------------------+\n",
            "only showing top 20 rows\n",
            "\n"
          ]
        }
      ]
    },
    {
      "cell_type": "code",
      "source": [
        "# Import functions\n",
        "from pyspark.ml.feature import Tokenizer, StopWordsRemover, HashingTF, IDF, StringIndexer"
      ],
      "metadata": {
        "id": "L_fl9ILvVN3u"
      },
      "execution_count": null,
      "outputs": []
    },
    {
      "cell_type": "code",
      "source": [
        "from pyspark.sql.functions import length\n",
        "# Create a length column to be used as a future feature\n",
        "data_df = df.withColumn('length', length(df['text']))\n",
        "data_df.show(truncate=False)"
      ],
      "metadata": {
        "colab": {
          "base_uri": "https://localhost:8080/"
        },
        "id": "L5rS81qMVPid",
        "outputId": "a59b39d9-60d3-48f4-c51e-480322896e62"
      },
      "execution_count": null,
      "outputs": [
        {
          "output_type": "stream",
          "name": "stdout",
          "text": [
            "+--------+---------------------------------------------------------------------------------------------------------------+------+\n",
            "|class   |text                                                                                                           |length|\n",
            "+--------+---------------------------------------------------------------------------------------------------------------+------+\n",
            "|positive|Wow... Loved this place.                                                                                       |24    |\n",
            "|negative|Crust is not good.                                                                                             |18    |\n",
            "|negative|Not tasty and the texture was just nasty.                                                                      |41    |\n",
            "|positive|Stopped by during the late May bank holiday off Rick Steve recommendation and loved it.                        |87    |\n",
            "|positive|The selection on the menu was great and so were the prices.                                                    |59    |\n",
            "|negative|Now I am getting angry and I want my damn pho.                                                                 |46    |\n",
            "|negative|Honeslty it didn't taste THAT fresh.)                                                                          |37    |\n",
            "|negative|The potatoes were like rubber and you could tell they had been made up ahead of time being kept under a warmer.|111   |\n",
            "|positive|The fries were great too.                                                                                      |25    |\n",
            "|positive|A great touch.                                                                                                 |14    |\n",
            "|positive|Service was very prompt.                                                                                       |24    |\n",
            "|negative|Would not go back.                                                                                             |18    |\n",
            "|negative|The cashier had no care what so ever on what I had to say it still ended up being wayyy overpriced.            |99    |\n",
            "|positive|I tried the Cape Cod ravoli, chicken,with cranberry...mmmm!                                                    |59    |\n",
            "|negative|I was disgusted because I was pretty sure that was human hair.                                                 |62    |\n",
            "|negative|I was shocked because no signs indicate cash only.                                                             |50    |\n",
            "|positive|Highly recommended.                                                                                            |19    |\n",
            "|negative|Waitress was a little slow in service.                                                                         |38    |\n",
            "|negative|This place is not worth your time, let alone Vegas.                                                            |51    |\n",
            "|negative|did not like at all.                                                                                           |20    |\n",
            "+--------+---------------------------------------------------------------------------------------------------------------+------+\n",
            "only showing top 20 rows\n",
            "\n"
          ]
        }
      ]
    },
    {
      "cell_type": "code",
      "source": [
        "# Create all the features to the data set\n",
        "pos_neg_to_num = StringIndexer(inputCol='class',outputCol='label')\n",
        "tokenizer = Tokenizer(inputCol=\"text\", outputCol=\"token_text\")\n",
        "stopremove = StopWordsRemover(inputCol='token_text',outputCol='stop_tokens')\n",
        "hashingTF = HashingTF(inputCol=\"stop_tokens\", outputCol='hash_token')\n",
        "idf = IDF(inputCol='hash_token', outputCol='idf_token')"
      ],
      "metadata": {
        "id": "WqNAotwuVwJM"
      },
      "execution_count": null,
      "outputs": []
    },
    {
      "cell_type": "code",
      "source": [
        "from pyspark.ml.feature import VectorAssembler\n",
        "from pyspark.ml.linalg import Vector\n",
        "# Create feature vectors\n",
        "clean_up = VectorAssembler(inputCols=['idf_token', 'length'], outputCol='features')"
      ],
      "metadata": {
        "id": "alh-pyF5WMMV"
      },
      "execution_count": null,
      "outputs": []
    },
    {
      "cell_type": "code",
      "source": [
        "# Create and run a data processing Pipeline\n",
        "from pyspark.ml import Pipeline\n",
        "data_prep_pipeline = Pipeline(stages=[pos_neg_to_num, tokenizer, stopremove, hashingTF, idf, clean_up])"
      ],
      "metadata": {
        "id": "XxB3yaelWcQt"
      },
      "execution_count": null,
      "outputs": []
    },
    {
      "cell_type": "code",
      "source": [
        "# Fit and transform the pipeline\n",
        "cleaner = data_prep_pipeline.fit(data_df)\n",
        "cleaned = cleaner.transform(data_df)"
      ],
      "metadata": {
        "id": "qV_Lj9RJWuqN"
      },
      "execution_count": null,
      "outputs": []
    },
    {
      "cell_type": "code",
      "source": [
        "# show label and resulting features\n",
        "cleaned.select(['label', 'features']).show()"
      ],
      "metadata": {
        "colab": {
          "base_uri": "https://localhost:8080/"
        },
        "id": "yryK-EBpWxSE",
        "outputId": "52afd2a3-0561-4226-a8d1-d70cac375682"
      },
      "execution_count": null,
      "outputs": [
        {
          "output_type": "stream",
          "name": "stdout",
          "text": [
            "+-----+--------------------+\n",
            "|label|            features|\n",
            "+-----+--------------------+\n",
            "|  1.0|(262145,[177414,2...|\n",
            "|  0.0|(262145,[49815,23...|\n",
            "|  0.0|(262145,[109649,1...|\n",
            "|  1.0|(262145,[53101,68...|\n",
            "|  1.0|(262145,[15370,77...|\n",
            "|  0.0|(262145,[98142,13...|\n",
            "|  0.0|(262145,[59172,22...|\n",
            "|  0.0|(262145,[63420,85...|\n",
            "|  1.0|(262145,[53777,17...|\n",
            "|  1.0|(262145,[221827,2...|\n",
            "|  1.0|(262145,[43756,22...|\n",
            "|  0.0|(262145,[127310,1...|\n",
            "|  0.0|(262145,[407,3153...|\n",
            "|  1.0|(262145,[18098,93...|\n",
            "|  0.0|(262145,[23071,12...|\n",
            "|  0.0|(262145,[129941,1...|\n",
            "|  1.0|(262145,[19633,21...|\n",
            "|  0.0|(262145,[27707,65...|\n",
            "|  0.0|(262145,[20891,27...|\n",
            "|  0.0|(262145,[8287,208...|\n",
            "+-----+--------------------+\n",
            "only showing top 20 rows\n",
            "\n"
          ]
        }
      ]
    },
    {
      "cell_type": "code",
      "source": [
        "# Break data down into a training set and a testing set\n",
        "training, testing = cleaned.randomSplit([0.7, 0.3], 21)"
      ],
      "metadata": {
        "id": "7eWdFgwvXgY9"
      },
      "execution_count": null,
      "outputs": []
    },
    {
      "cell_type": "code",
      "source": [
        "from pyspark.ml.classification import NaiveBayes\n",
        "# Create a Naive Bayes model and fit training data\n",
        "nb = NaiveBayes()\n",
        "predictor = nb.fit(training)"
      ],
      "metadata": {
        "id": "ELr7zAVjXtWF"
      },
      "execution_count": null,
      "outputs": []
    },
    {
      "cell_type": "code",
      "source": [
        "# Transform the model with the testing data\n",
        "test_results = predictor.transform(testing)\n",
        "test_results.show(20)"
      ],
      "metadata": {
        "colab": {
          "base_uri": "https://localhost:8080/"
        },
        "id": "duFzxQPZX069",
        "outputId": "f1c23287-254a-47a1-8622-f34ccaec543d"
      },
      "execution_count": null,
      "outputs": [
        {
          "output_type": "stream",
          "name": "stdout",
          "text": [
            "+--------+--------------------+------+-----+--------------------+--------------------+--------------------+--------------------+--------------------+--------------------+--------------------+----------+\n",
            "|   class|                text|length|label|          token_text|         stop_tokens|          hash_token|           idf_token|            features|       rawPrediction|         probability|prediction|\n",
            "+--------+--------------------+------+-----+--------------------+--------------------+--------------------+--------------------+--------------------+--------------------+--------------------+----------+\n",
            "|negative|\"The burger... I ...|    86|  0.0|[\"the, burger...,...|[\"the, burger...,...|(262144,[20298,21...|(262144,[20298,21...|(262145,[20298,21...|[-820.60780566975...|[0.99999999999995...|       0.0|\n",
            "|negative|              #NAME?|     6|  0.0|            [#name?]|            [#name?]|(262144,[197050],...|(262144,[197050],...|(262145,[197050,2...|[-73.489435340867...|[0.07515735596910...|       1.0|\n",
            "|negative|After I pulled up...|    83|  0.0|[after, i, pulled...|[pulled, car, wai...|(262144,[65645,71...|(262144,[65645,71...|(262145,[65645,71...|[-620.40646705112...|[1.0,1.9205984091...|       0.0|\n",
            "|negative|Also, I feel like...|    58|  0.0|[also,, i, feel, ...|[also,, feel, lik...|(262144,[61899,66...|(262144,[61899,66...|(262145,[61899,66...|[-528.59562125515...|[0.99999999994873...|       0.0|\n",
            "|negative|Anyway, I do not ...|    44|  0.0|[anyway,, i, do, ...|[anyway,, think, ...|(262144,[132270,1...|(262144,[132270,1...|(262145,[132270,1...|[-334.09599709326...|[0.99999999994185...|       0.0|\n",
            "|negative|Anyways, The food...|   102|  0.0|[anyways,, the, f...|[anyways,, food, ...|(262144,[6346,685...|(262144,[6346,685...|(262145,[6346,685...|[-779.27125246078...|[0.99905255158977...|       0.0|\n",
            "|negative|As a sushi lover ...|    47|  0.0|[as, a, sushi, lo...|[sushi, lover, av...|(262144,[6261,709...|(262144,[6261,709...|(262145,[6261,709...|[-400.43450785699...|[0.99999998920319...|       0.0|\n",
            "|negative|As much as I'd li...|    95|  0.0|[as, much, as, i'...|[much, like, go, ...|(262144,[37908,43...|(262144,[37908,43...|(262145,[37908,43...|[-694.99839226333...|[1.0,1.5392272978...|       0.0|\n",
            "|negative|Before I go in to...|   132|  0.0|[before, i, go, i...|[go, gave, 1, sta...|(262144,[9781,926...|(262144,[9781,926...|(262145,[9781,926...|[-1163.1578812603...|[1.0,2.0965497135...|       0.0|\n",
            "|negative|But I definitely ...|    42|  0.0|[but, i, definite...|[definitely, eat,...|(262144,[6346,112...|(262144,[6346,112...|(262145,[6346,112...|[-225.43919775119...|[0.99979792050352...|       0.0|\n",
            "|negative|But now I was com...|    37|  0.0|[but, now, i, was...|[completely, gros...|(262144,[123874,1...|(262144,[123874,1...|(262145,[123874,1...|[-300.28103502273...|[0.93477724115336...|       0.0|\n",
            "|negative|But then they cam...|    29|  0.0|[but, then, they,...| [came, back, cold.]|(262144,[65844,13...|(262144,[65844,13...|(262145,[65844,13...|[-195.30008379866...|[0.99999998229401...|       0.0|\n",
            "|negative|  Crust is not good.|    18|  0.0|[crust, is, not, ...|      [crust, good.]|(262144,[49815,23...|(262144,[49815,23...|(262145,[49815,23...|[-158.39316295644...|[0.24542103246923...|       1.0|\n",
            "|negative|Del Taco is prett...|    59|  0.0|[del, taco, is, p...|[del, taco, prett...|(262144,[16793,21...|(262144,[16793,21...|(262145,[16793,21...|[-570.55820515039...|[3.21792658799547...|       1.0|\n",
            "|negative|Do yourself a fav...|    49|  0.0|[do, yourself, a,...|[favor, stay, awa...|(262144,[1004,912...|(262144,[1004,912...|(262145,[1004,912...|[-401.50632368758...|[2.80032615028215...|       1.0|\n",
            "|negative|Don't bother comi...|    25|  0.0|[don't, bother, c...|[bother, coming, ...|(262144,[12409,31...|(262144,[12409,31...|(262145,[12409,31...|[-225.61607913435...|[0.99953245668819...|       0.0|\n",
            "|negative|Everything was gr...|    21|  0.0|[everything, was,...|[everything, gross.]|(262144,[76187,12...|(262144,[76187,12...|(262145,[76187,12...|[-184.45183122800...|[0.04035071997062...|       1.0|\n",
            "|negative|First - the bathr...|   105|  0.0|[first, -, the, b...|[first, -, bathro...|(262144,[25615,38...|(262144,[25615,38...|(262145,[25615,38...|[-1003.3633555890...|[0.96780198039995...|       0.0|\n",
            "|negative|Food was average ...|    25|  0.0|[food, was, avera...|[food, average, b...|(262144,[38795,98...|(262144,[38795,98...|(262145,[38795,98...|[-191.08411756853...|[0.99999999999994...|       0.0|\n",
            "|negative|Food was really b...|    23|  0.0|[food, was, reall...|[food, really, bo...|(262144,[121133,1...|(262144,[121133,1...|(262145,[121133,1...|[-190.57878406148...|[0.85028925285655...|       0.0|\n",
            "+--------+--------------------+------+-----+--------------------+--------------------+--------------------+--------------------+--------------------+--------------------+--------------------+----------+\n",
            "only showing top 20 rows\n",
            "\n"
          ]
        }
      ]
    },
    {
      "cell_type": "code",
      "source": [
        "from pyspark.ml.evaluation import BinaryClassificationEvaluator\n",
        "\n",
        "acc_eval = BinaryClassificationEvaluator(labelCol='label', rawPredictionCol='prediction')\n",
        "acc = acc_eval.evaluate(test_results)\n",
        "print(\"Accuracy of model at predicting reviews was: %f\" %acc)"
      ],
      "metadata": {
        "colab": {
          "base_uri": "https://localhost:8080/"
        },
        "id": "1AGyy_SFYna8",
        "outputId": "f15ce4e5-94cd-4147-eaa1-80a5f69d6675"
      },
      "execution_count": null,
      "outputs": [
        {
          "output_type": "stream",
          "name": "stdout",
          "text": [
            "Accuracy of model at predicting reviews was: 0.700298\n"
          ]
        }
      ]
    }
  ]
}